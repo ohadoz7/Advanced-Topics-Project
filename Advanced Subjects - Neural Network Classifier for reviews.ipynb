{
 "cells": [
  {
   "cell_type": "code",
   "execution_count": 1,
   "metadata": {},
   "outputs": [
    {
     "data": {
      "text/plain": [
       "'C:\\\\Users\\\\Public'"
      ]
     },
     "execution_count": 1,
     "metadata": {},
     "output_type": "execute_result"
    }
   ],
   "source": [
    "import pandas as pd\n",
    "import os\n",
    "from sklearn.model_selection import train_test_split\n",
    "from sklearn.neural_network import MLPClassifier\n",
    "from sklearn.metrics import classification_report\n",
    "os.chdir(r\"C:\\Users\\Public\")\n",
    "os.getcwd()"
   ]
  },
  {
   "cell_type": "code",
   "execution_count": 3,
   "metadata": {},
   "outputs": [],
   "source": [
    "df_train_HW_reviews = pd.read_csv (r\"text_training.csv\",index_col=0)\n",
    "df_train_HW_reviews_count_id_index_without_stopwords = pd.read_csv (r\"df_train_HW_reviews_count_id_index_without_stopwords.csv\",index_col=0)\n",
    "df_train_HW_reviews_tf_idf_id_index_with_stopwords = pd.read_csv (r\"df_train_HW_reviews_tf_idf_id_index_with_stopwords.csv\",index_col=0)\n",
    "df_train_HW_reviews_tf_idf_id_index_without_stopwords = pd.read_csv (r\"df_train_HW_reviews_tf_idf_id_index_without_stopwords.csv\",index_col=0)\n"
   ]
  },
  {
   "cell_type": "code",
   "execution_count": 9,
   "metadata": {},
   "outputs": [
    {
     "name": "stdout",
     "output_type": "stream",
     "text": [
      "              precision    recall  f1-score   support\n",
      "\n",
      "           0       0.76      0.81      0.79       214\n",
      "           1       0.89      0.86      0.87       386\n",
      "\n",
      "    accuracy                           0.84       600\n",
      "   macro avg       0.83      0.84      0.83       600\n",
      "weighted avg       0.84      0.84      0.84       600\n",
      "\n"
     ]
    }
   ],
   "source": [
    "# nn - df_train_HW - count + with stopwords\n",
    "X_train, X_test, y_train, y_test = train_test_split(df_train_HW_reviews.drop(['rating'], axis = 1), df_train_HW_reviews['rating'], test_size=0.3, random_state=1000)\n",
    "logreg = MLPClassifier(solver='lbfgs', alpha=1e-5,hidden_layer_sizes=(100, 2), random_state=1)\n",
    "logreg.fit(X_train, y_train)\n",
    "y_pred = logreg.predict(X_test)\n",
    "print(classification_report(y_test, y_pred))"
   ]
  },
  {
   "cell_type": "code",
   "execution_count": 15,
   "metadata": {},
   "outputs": [
    {
     "name": "stdout",
     "output_type": "stream",
     "text": [
      "              precision    recall  f1-score   support\n",
      "\n",
      "           0       0.81      0.78      0.79       214\n",
      "           1       0.88      0.90      0.89       386\n",
      "\n",
      "    accuracy                           0.85       600\n",
      "   macro avg       0.84      0.84      0.84       600\n",
      "weighted avg       0.85      0.85      0.85       600\n",
      "\n"
     ]
    }
   ],
   "source": [
    "# nn- df_train_HW  - count + without stopwords\n",
    "X_train, X_test, y_train, y_test = train_test_split(df_train_HW_reviews_count_id_index_without_stopwords.drop(['rating'], axis = 1), df_train_HW_reviews_count_id_index_without_stopwords['rating'], test_size=0.3, random_state=1000)\n",
    "logreg = MLPClassifier(solver='lbfgs', alpha=1e-5,hidden_layer_sizes=(50, 2), random_state=1)\n",
    "logreg.fit(X_train, y_train)\n",
    "y_pred = logreg.predict(X_test)\n",
    "print(classification_report(y_test, y_pred))"
   ]
  },
  {
   "cell_type": "code",
   "execution_count": 31,
   "metadata": {},
   "outputs": [
    {
     "name": "stdout",
     "output_type": "stream",
     "text": [
      "              precision    recall  f1-score   support\n",
      "\n",
      "           0       0.86      0.79      0.83       214\n",
      "           1       0.89      0.93      0.91       386\n",
      "\n",
      "    accuracy                           0.88       600\n",
      "   macro avg       0.88      0.86      0.87       600\n",
      "weighted avg       0.88      0.88      0.88       600\n",
      "\n"
     ]
    }
   ],
   "source": [
    "# Neural Network - df_train_HW_reviews  - tf-idf + with stopwords\n",
    "X_train, X_test, y_train, y_test = train_test_split(df_train_HW_reviews_tf_idf_id_index_with_stopwords, df_train_HW_reviews['rating'], test_size=0.3, random_state=1000)\n",
    "logreg = MLPClassifier(solver='lbfgs', alpha=1e-5,hidden_layer_sizes=(6, 12), random_state=1)\n",
    "logreg.fit(X_train, y_train)\n",
    "y_pred = logreg.predict(X_test)\n",
    "print(classification_report(y_test, y_pred))"
   ]
  },
  {
   "cell_type": "code",
   "execution_count": 36,
   "metadata": {},
   "outputs": [
    {
     "name": "stdout",
     "output_type": "stream",
     "text": [
      "              precision    recall  f1-score   support\n",
      "\n",
      "           0       0.84      0.83      0.83       214\n",
      "           1       0.90      0.91      0.91       386\n",
      "\n",
      "    accuracy                           0.88       600\n",
      "   macro avg       0.87      0.87      0.87       600\n",
      "weighted avg       0.88      0.88      0.88       600\n",
      "\n"
     ]
    }
   ],
   "source": [
    "# Gradient Boosting Classifier - df_train_HW_reviews  - tf-idf + without stopwords\n",
    "X_train, X_test, y_train, y_test = train_test_split(df_train_HW_reviews_tf_idf_id_index_without_stopwords, df_train_HW_reviews['rating'], test_size=0.3, random_state=1000)\n",
    "logreg = MLPClassifier(solver='lbfgs', alpha=1e-5,hidden_layer_sizes=(50, 2), random_state=1)\n",
    "logreg.fit(X_train, y_train)\n",
    "y_pred = logreg.predict(X_test)\n",
    "print(classification_report(y_test, y_pred))"
   ]
  }
 ],
 "metadata": {
  "kernelspec": {
   "display_name": "Python 3",
   "language": "python",
   "name": "python3"
  },
  "language_info": {
   "codemirror_mode": {
    "name": "ipython",
    "version": 3
   },
   "file_extension": ".py",
   "mimetype": "text/x-python",
   "name": "python",
   "nbconvert_exporter": "python",
   "pygments_lexer": "ipython3",
   "version": "3.7.4"
  }
 },
 "nbformat": 4,
 "nbformat_minor": 2
}
