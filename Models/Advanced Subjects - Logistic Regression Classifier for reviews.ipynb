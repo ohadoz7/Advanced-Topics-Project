{
 "cells": [
  {
   "cell_type": "code",
   "execution_count": 1,
   "metadata": {},
   "outputs": [
    {
     "data": {
      "text/plain": [
       "'C:\\\\Users\\\\Public'"
      ]
     },
     "execution_count": 1,
     "metadata": {},
     "output_type": "execute_result"
    }
   ],
   "source": [
    "import pandas as pd\n",
    "import os\n",
    "from sklearn.model_selection import train_test_split\n",
    "from sklearn.linear_model import LogisticRegression\n",
    "from sklearn.metrics import classification_report\n",
    "os.chdir(r\"C:\\Users\\Public\")\n",
    "os.getcwd()"
   ]
  },
  {
   "cell_type": "code",
   "execution_count": 2,
   "metadata": {},
   "outputs": [],
   "source": [
    "df_train_HW_reviews = pd.read_csv (r\"text_training.csv\",index_col=0)\n",
    "df_train_HW_reviews_count_id_index_without_stopwords = pd.read_csv (r\"df_train_HW_reviews_count_id_index_without_stopwords.csv\",index_col=0)\n",
    "df_train_HW_reviews_tf_idf_id_index_with_stopwords = pd.read_csv (r\"df_train_HW_reviews_tf_idf_id_index_with_stopwords.csv\",index_col=0)\n",
    "df_train_HW_reviews_tf_idf_id_index_without_stopwords = pd.read_csv (r\"df_train_HW_reviews_tf_idf_id_index_without_stopwords.csv\",index_col=0)\n"
   ]
  },
  {
   "cell_type": "code",
   "execution_count": 7,
   "metadata": {},
   "outputs": [
    {
     "name": "stdout",
     "output_type": "stream",
     "text": [
      "              precision    recall  f1-score   support\n",
      "\n",
      "           0       0.78      0.76      0.77       214\n",
      "           1       0.87      0.88      0.88       386\n",
      "\n",
      "    accuracy                           0.84       600\n",
      "   macro avg       0.83      0.82      0.82       600\n",
      "weighted avg       0.84      0.84      0.84       600\n",
      "\n"
     ]
    }
   ],
   "source": [
    "# NB prediction - df_train_HW_reviews - count + with stopwords\n",
    "X_train, X_test, y_train, y_test = train_test_split(df_train_HW_reviews.drop(['rating'], axis = 1), df_train_HW_reviews['rating'], test_size=0.3, random_state=1000)\n",
    "logreg = LogisticRegression(solver='lbfgs',max_iter=200)\n",
    "logreg.fit(X_train, y_train)\n",
    "y_pred = logreg.predict(X_test)\n",
    "print(classification_report(y_test, y_pred))"
   ]
  },
  {
   "cell_type": "code",
   "execution_count": 8,
   "metadata": {},
   "outputs": [
    {
     "name": "stdout",
     "output_type": "stream",
     "text": [
      "              precision    recall  f1-score   support\n",
      "\n",
      "           0       0.82      0.77      0.79       214\n",
      "           1       0.88      0.91      0.89       386\n",
      "\n",
      "    accuracy                           0.86       600\n",
      "   macro avg       0.85      0.84      0.84       600\n",
      "weighted avg       0.86      0.86      0.86       600\n",
      "\n"
     ]
    }
   ],
   "source": [
    "# NB prediction - df_train_HW_reviews  - count + without stopwords\n",
    "X_train, X_test, y_train, y_test = train_test_split(df_train_HW_reviews_count_id_index_without_stopwords.drop(['rating'], axis = 1), df_train_HW_reviews_count_id_index_without_stopwords['rating'], test_size=0.3, random_state=1000)\n",
    "logreg = LogisticRegression(solver='lbfgs',max_iter=200)\n",
    "logreg.fit(X_train, y_train)\n",
    "y_pred = logreg.predict(X_test)\n",
    "print(classification_report(y_test, y_pred))"
   ]
  },
  {
   "cell_type": "code",
   "execution_count": 9,
   "metadata": {},
   "outputs": [
    {
     "name": "stdout",
     "output_type": "stream",
     "text": [
      "              precision    recall  f1-score   support\n",
      "\n",
      "           0       1.00      0.30      0.47       214\n",
      "           1       0.72      1.00      0.84       386\n",
      "\n",
      "    accuracy                           0.75       600\n",
      "   macro avg       0.86      0.65      0.65       600\n",
      "weighted avg       0.82      0.75      0.71       600\n",
      "\n"
     ]
    }
   ],
   "source": [
    "# NB prediction - df_train_HW_reviews - tf_idf + with stopwords\n",
    "X_train, X_test, y_train, y_test = train_test_split(df_train_HW_reviews_tf_idf_id_index_with_stopwords, df_train_HW_reviews['rating'], test_size=0.3, random_state=1000)\n",
    "logreg = LogisticRegression(solver='lbfgs',max_iter=200)\n",
    "logreg.fit(X_train, y_train)\n",
    "y_pred = logreg.predict(X_test)\n",
    "print(classification_report(y_test, y_pred))"
   ]
  },
  {
   "cell_type": "code",
   "execution_count": 10,
   "metadata": {},
   "outputs": [
    {
     "name": "stdout",
     "output_type": "stream",
     "text": [
      "              precision    recall  f1-score   support\n",
      "\n",
      "           0       1.00      0.21      0.34       214\n",
      "           1       0.69      1.00      0.82       386\n",
      "\n",
      "    accuracy                           0.72       600\n",
      "   macro avg       0.85      0.60      0.58       600\n",
      "weighted avg       0.80      0.72      0.65       600\n",
      "\n"
     ]
    }
   ],
   "source": [
    "# NB prediction - df_train_HW_reviews - tf-idf + without stopwords\n",
    "X_train, X_test, y_train, y_test = train_test_split(df_train_HW_reviews_tf_idf_id_index_without_stopwords, df_train_HW_reviews['rating'], test_size=0.3, random_state=1000)\n",
    "logreg = LogisticRegression(solver='lbfgs',max_iter=200)\n",
    "logreg.fit(X_train, y_train)\n",
    "y_pred = logreg.predict(X_test)\n",
    "print(classification_report(y_test, y_pred))"
   ]
  }
 ],
 "metadata": {
  "kernelspec": {
   "display_name": "Python 3",
   "language": "python",
   "name": "python3"
  },
  "language_info": {
   "codemirror_mode": {
    "name": "ipython",
    "version": 3
   },
   "file_extension": ".py",
   "mimetype": "text/x-python",
   "name": "python",
   "nbconvert_exporter": "python",
   "pygments_lexer": "ipython3",
   "version": "3.7.4"
  }
 },
 "nbformat": 4,
 "nbformat_minor": 2
}
