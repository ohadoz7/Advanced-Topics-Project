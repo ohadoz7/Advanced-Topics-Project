{
 "cells": [
  {
   "cell_type": "code",
   "execution_count": 4,
   "metadata": {},
   "outputs": [
    {
     "data": {
      "text/plain": [
       "'C:\\\\Users\\\\Public'"
      ]
     },
     "execution_count": 4,
     "metadata": {},
     "output_type": "execute_result"
    }
   ],
   "source": [
    "import pandas as pd\n",
    "import os\n",
    "from sklearn.model_selection import train_test_split\n",
    "from sklearn.naive_bayes import MultinomialNB\n",
    "from sklearn.metrics import classification_report\n",
    "os.chdir(r\"C:\\Users\\Public\")\n",
    "os.getcwd()"
   ]
  },
  {
   "cell_type": "code",
   "execution_count": 5,
   "metadata": {},
   "outputs": [],
   "source": [
    "df_train_HW_reviews = pd.read_csv (r\"text_training.csv\",index_col=0)\n",
    "df_train_HW_reviews_count_id_index_without_stopwords = pd.read_csv (r\"df_train_HW_reviews_count_id_index_without_stopwords.csv\",index_col=0)\n",
    "df_train_HW_reviews_tf_idf_id_index_with_stopwords = pd.read_csv (r\"df_train_HW_reviews_tf_idf_id_index_with_stopwords.csv\",index_col=0)\n",
    "df_train_HW_reviews_tf_idf_id_index_without_stopwords = pd.read_csv (r\"df_train_HW_reviews_tf_idf_id_index_without_stopwords.csv\",index_col=0)\n"
   ]
  },
  {
   "cell_type": "code",
   "execution_count": 6,
   "metadata": {},
   "outputs": [
    {
     "name": "stdout",
     "output_type": "stream",
     "text": [
      "              precision    recall  f1-score   support\n",
      "\n",
      "           0       0.86      0.82      0.84       214\n",
      "           1       0.90      0.93      0.92       386\n",
      "\n",
      "    accuracy                           0.89       600\n",
      "   macro avg       0.88      0.87      0.88       600\n",
      "weighted avg       0.89      0.89      0.89       600\n",
      "\n"
     ]
    }
   ],
   "source": [
    "# NB prediction - df_train_HW_reviews - count + with stopwords\n",
    "X_train, X_test, y_train, y_test = train_test_split(df_train_HW_reviews.drop(['rating'], axis = 1), df_train_HW_reviews['rating'], test_size=0.3, random_state=1000)\n",
    "logreg = MultinomialNB()\n",
    "logreg.fit(X_train, y_train)\n",
    "y_pred = logreg.predict(X_test)\n",
    "print(classification_report(y_test, y_pred))"
   ]
  },
  {
   "cell_type": "code",
   "execution_count": 7,
   "metadata": {},
   "outputs": [
    {
     "name": "stdout",
     "output_type": "stream",
     "text": [
      "              precision    recall  f1-score   support\n",
      "\n",
      "           0       0.83      0.80      0.82       214\n",
      "           1       0.89      0.91      0.90       386\n",
      "\n",
      "    accuracy                           0.87       600\n",
      "   macro avg       0.86      0.86      0.86       600\n",
      "weighted avg       0.87      0.87      0.87       600\n",
      "\n"
     ]
    }
   ],
   "source": [
    "# NB prediction - df_train_HW_reviews  - count + without stopwords\n",
    "X_train, X_test, y_train, y_test = train_test_split(df_train_HW_reviews_count_id_index_without_stopwords.drop(['rating'], axis = 1), df_train_HW_reviews_count_id_index_without_stopwords['rating'], test_size=0.3, random_state=1000)\n",
    "logreg = MultinomialNB()\n",
    "logreg.fit(X_train, y_train)\n",
    "y_pred = logreg.predict(X_test)\n",
    "print(classification_report(y_test, y_pred))"
   ]
  },
  {
   "cell_type": "code",
   "execution_count": 11,
   "metadata": {},
   "outputs": [
    {
     "name": "stdout",
     "output_type": "stream",
     "text": [
      "              precision    recall  f1-score   support\n",
      "\n",
      "           0       1.00      0.09      0.17       214\n",
      "           1       0.67      1.00      0.80       386\n",
      "\n",
      "    accuracy                           0.68       600\n",
      "   macro avg       0.83      0.55      0.49       600\n",
      "weighted avg       0.78      0.68      0.58       600\n",
      "\n"
     ]
    }
   ],
   "source": [
    "# NB prediction - df_train_HW_reviews - tf_idf + with stopwords\n",
    "X_train, X_test, y_train, y_test = train_test_split(df_train_HW_reviews_tf_idf_id_index_with_stopwords, df_train_HW_reviews['rating'], test_size=0.3, random_state=1000)\n",
    "logreg = MultinomialNB()\n",
    "logreg.fit(X_train, y_train)\n",
    "y_pred = logreg.predict(X_test)\n",
    "print(classification_report(y_test, y_pred))"
   ]
  },
  {
   "cell_type": "code",
   "execution_count": 12,
   "metadata": {},
   "outputs": [
    {
     "name": "stdout",
     "output_type": "stream",
     "text": [
      "              precision    recall  f1-score   support\n",
      "\n",
      "           0       1.00      0.08      0.16       214\n",
      "           1       0.66      1.00      0.80       386\n",
      "\n",
      "    accuracy                           0.67       600\n",
      "   macro avg       0.83      0.54      0.48       600\n",
      "weighted avg       0.78      0.67      0.57       600\n",
      "\n"
     ]
    }
   ],
   "source": [
    "# NB prediction - df_train_HW_reviews - tf-idf + without stopwords\n",
    "X_train, X_test, y_train, y_test = train_test_split(df_train_HW_reviews_tf_idf_id_index_without_stopwords, df_train_HW_reviews['rating'], test_size=0.3, random_state=1000)\n",
    "logreg = MultinomialNB()\n",
    "logreg.fit(X_train, y_train)\n",
    "y_pred = logreg.predict(X_test)\n",
    "print(classification_report(y_test, y_pred))"
   ]
  }
 ],
 "metadata": {
  "kernelspec": {
   "display_name": "Python 3",
   "language": "python",
   "name": "python3"
  },
  "language_info": {
   "codemirror_mode": {
    "name": "ipython",
    "version": 3
   },
   "file_extension": ".py",
   "mimetype": "text/x-python",
   "name": "python",
   "nbconvert_exporter": "python",
   "pygments_lexer": "ipython3",
   "version": "3.7.4"
  }
 },
 "nbformat": 4,
 "nbformat_minor": 2
}
