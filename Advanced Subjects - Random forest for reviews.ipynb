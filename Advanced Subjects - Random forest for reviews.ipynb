{
 "cells": [
  {
   "cell_type": "code",
   "execution_count": 1,
   "metadata": {},
   "outputs": [
    {
     "data": {
      "text/plain": [
       "'C:\\\\Users\\\\Public'"
      ]
     },
     "execution_count": 1,
     "metadata": {},
     "output_type": "execute_result"
    }
   ],
   "source": [
    "import pandas as pd\n",
    "import os\n",
    "from sklearn.model_selection import train_test_split\n",
    "from sklearn.ensemble import RandomForestClassifier\n",
    "from sklearn.datasets import make_classification\n",
    "from sklearn.metrics import classification_report\n",
    "os.chdir(r\"C:\\Users\\Public\")\n",
    "os.getcwd()"
   ]
  },
  {
   "cell_type": "code",
   "execution_count": 2,
   "metadata": {},
   "outputs": [],
   "source": [
    "df_train_HW_reviews = pd.read_csv (r\"text_training.csv\",index_col=0)\n",
    "df_train_HW_reviews_count_id_index_without_stopwords = pd.read_csv (r\"df_train_HW_reviews_count_id_index_without_stopwords.csv\",index_col=0)\n",
    "df_train_HW_reviews_tf_idf_id_index_with_stopwords = pd.read_csv (r\"df_train_HW_reviews_tf_idf_id_index_with_stopwords.csv\",index_col=0)\n",
    "df_train_HW_reviews_tf_idf_id_index_without_stopwords = pd.read_csv (r\"df_train_HW_reviews_tf_idf_id_index_without_stopwords.csv\",index_col=0)\n"
   ]
  },
  {
   "cell_type": "code",
   "execution_count": 19,
   "metadata": {},
   "outputs": [
    {
     "name": "stdout",
     "output_type": "stream",
     "text": [
      "              precision    recall  f1-score   support\n",
      "\n",
      "           0       1.00      0.00      0.01       214\n",
      "           1       0.64      1.00      0.78       386\n",
      "\n",
      "    accuracy                           0.65       600\n",
      "   macro avg       0.82      0.50      0.40       600\n",
      "weighted avg       0.77      0.65      0.51       600\n",
      "\n"
     ]
    },
    {
     "name": "stderr",
     "output_type": "stream",
     "text": [
      "D:\\Anaconda_Python\\lib\\site-packages\\sklearn\\ensemble\\forest.py:245: FutureWarning: The default value of n_estimators will change from 10 in version 0.20 to 100 in 0.22.\n",
      "  \"10 in version 0.20 to 100 in 0.22.\", FutureWarning)\n"
     ]
    }
   ],
   "source": [
    "# random forest - df_train_HW_reviews - count + with stopwords\n",
    "X_train, X_test, y_train, y_test = train_test_split(df_train_HW_reviews.drop(['rating'], axis = 1), df_train_HW_reviews['rating'], test_size=0.3, random_state=1000)\n",
    "X_train, y_train = make_classification(n_samples=1000, n_features=2500,n_informative=2, n_redundant=0,random_state=0, shuffle=False)\n",
    "logreg = RandomForestClassifier(max_depth=1, random_state=0)\n",
    "logreg.fit(X_train, y_train)\n",
    "y_pred = logreg.predict(X_test)\n",
    "print(classification_report(y_test, y_pred))"
   ]
  },
  {
   "cell_type": "code",
   "execution_count": 12,
   "metadata": {},
   "outputs": [
    {
     "name": "stdout",
     "output_type": "stream",
     "text": [
      "              precision    recall  f1-score   support\n",
      "\n",
      "           0       0.38      0.01      0.03       214\n",
      "           1       0.64      0.99      0.78       386\n",
      "\n",
      "    accuracy                           0.64       600\n",
      "   macro avg       0.51      0.50      0.40       600\n",
      "weighted avg       0.55      0.64      0.51       600\n",
      "\n"
     ]
    },
    {
     "name": "stderr",
     "output_type": "stream",
     "text": [
      "D:\\Anaconda_Python\\lib\\site-packages\\sklearn\\ensemble\\forest.py:245: FutureWarning: The default value of n_estimators will change from 10 in version 0.20 to 100 in 0.22.\n",
      "  \"10 in version 0.20 to 100 in 0.22.\", FutureWarning)\n"
     ]
    }
   ],
   "source": [
    "# random forest - df_train_HW_reviews - count + without stopwords\n",
    "X_train, X_test, y_train, y_test = train_test_split(df_train_HW_reviews_count_id_index_without_stopwords.drop(['rating'], axis = 1), df_train_HW_reviews_count_id_index_without_stopwords['rating'], test_size=0.3, random_state=1000)\n",
    "X_train, y_train = make_classification(n_samples=1000, n_features=2423,n_informative=2, n_redundant=0,random_state=0, shuffle=False)\n",
    "logreg = RandomForestClassifier(max_depth=3, random_state=0)\n",
    "logreg.fit(X_train, y_train)\n",
    "y_pred = logreg.predict(X_test)\n",
    "print(classification_report(y_test, y_pred))"
   ]
  },
  {
   "cell_type": "code",
   "execution_count": 22,
   "metadata": {},
   "outputs": [
    {
     "name": "stdout",
     "output_type": "stream",
     "text": [
      "              precision    recall  f1-score   support\n",
      "\n",
      "           0       0.00      0.00      0.00       214\n",
      "           1       0.64      1.00      0.78       386\n",
      "\n",
      "    accuracy                           0.64       600\n",
      "   macro avg       0.32      0.50      0.39       600\n",
      "weighted avg       0.41      0.64      0.50       600\n",
      "\n"
     ]
    },
    {
     "name": "stderr",
     "output_type": "stream",
     "text": [
      "D:\\Anaconda_Python\\lib\\site-packages\\sklearn\\ensemble\\forest.py:245: FutureWarning: The default value of n_estimators will change from 10 in version 0.20 to 100 in 0.22.\n",
      "  \"10 in version 0.20 to 100 in 0.22.\", FutureWarning)\n",
      "D:\\Anaconda_Python\\lib\\site-packages\\sklearn\\metrics\\classification.py:1437: UndefinedMetricWarning: Precision and F-score are ill-defined and being set to 0.0 in labels with no predicted samples.\n",
      "  'precision', 'predicted', average, warn_for)\n"
     ]
    }
   ],
   "source": [
    "# random forest - df_train_HW_reviews - tf-idf + with stopwords\n",
    "df_train_HW_reviews_tf_idf_id_index_without_stopwords = pd.read_csv (r\"df_train_HW_reviews_tf_idf_id_index_without_stopwords.csv\",index_col=0)\n",
    "X_train, X_test, y_train, y_test = train_test_split(df_train_HW_reviews_tf_idf_id_index_with_stopwords, df_train_HW_reviews['rating'], test_size=0.3, random_state=1000)\n",
    "X_train, y_train = make_classification(n_samples=1000, n_features=2499,n_informative=2, n_redundant=0,random_state=0, shuffle=False)\n",
    "logreg = RandomForestClassifier(max_depth=2, random_state=0)\n",
    "logreg.fit(X_train, y_train)\n",
    "y_pred = logreg.predict(X_test)\n",
    "print(classification_report(y_test, y_pred))"
   ]
  },
  {
   "cell_type": "code",
   "execution_count": 24,
   "metadata": {},
   "outputs": [
    {
     "name": "stdout",
     "output_type": "stream",
     "text": [
      "              precision    recall  f1-score   support\n",
      "\n",
      "           0       0.00      0.00      0.00       214\n",
      "           1       0.64      1.00      0.78       386\n",
      "\n",
      "    accuracy                           0.64       600\n",
      "   macro avg       0.32      0.50      0.39       600\n",
      "weighted avg       0.41      0.64      0.50       600\n",
      "\n"
     ]
    },
    {
     "name": "stderr",
     "output_type": "stream",
     "text": [
      "D:\\Anaconda_Python\\lib\\site-packages\\sklearn\\ensemble\\forest.py:245: FutureWarning: The default value of n_estimators will change from 10 in version 0.20 to 100 in 0.22.\n",
      "  \"10 in version 0.20 to 100 in 0.22.\", FutureWarning)\n",
      "D:\\Anaconda_Python\\lib\\site-packages\\sklearn\\metrics\\classification.py:1437: UndefinedMetricWarning: Precision and F-score are ill-defined and being set to 0.0 in labels with no predicted samples.\n",
      "  'precision', 'predicted', average, warn_for)\n"
     ]
    }
   ],
   "source": [
    "# random forest - df_train_HW_reviews - tf-idf + without stopwords\n",
    "X_train, X_test, y_train, y_test = train_test_split(df_train_HW_reviews_tf_idf_id_index_without_stopwords, df_train_HW_reviews['rating'], test_size=0.3, random_state=1000)\n",
    "X_train, y_train = make_classification(n_samples=1000, n_features=2422,n_informative=2, n_redundant=0,random_state=0, shuffle=False)\n",
    "logreg = RandomForestClassifier(max_depth=1, random_state=0)\n",
    "logreg.fit(X_train, y_train)\n",
    "y_pred = logreg.predict(X_test)\n",
    "print(classification_report(y_test, y_pred))"
   ]
  }
 ],
 "metadata": {
  "kernelspec": {
   "display_name": "Python 3",
   "language": "python",
   "name": "python3"
  },
  "language_info": {
   "codemirror_mode": {
    "name": "ipython",
    "version": 3
   },
   "file_extension": ".py",
   "mimetype": "text/x-python",
   "name": "python",
   "nbconvert_exporter": "python",
   "pygments_lexer": "ipython3",
   "version": "3.7.4"
  }
 },
 "nbformat": 4,
 "nbformat_minor": 2
}
